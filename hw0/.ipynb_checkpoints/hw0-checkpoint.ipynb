{
 "cells": [
  {
   "cell_type": "code",
   "execution_count": 228,
   "metadata": {
    "collapsed": false,
    "scrolled": false
   },
   "outputs": [],
   "source": [
    "# # -*- coding: utf-8 -*-\n",
    "# import numpy\n",
    "# import pandas as pd\n",
    "# df = pd.read_table(\"file.dat\", header=None, delimiter=\" \")\n",
    "# col3=[]\n",
    "# for i in df.iterrows():\n",
    "#     col3.append(float(\"{0:.3f}\".format(i[1][2])))\n",
    "# col3.sort()\n",
    "# numpy.savetxt(\"ans1.txt\", col3, fmt=\"%0.3f\", delimiter=',', newline=\",\")\n",
    "\n"
   ]
  },
  {
   "cell_type": "code",
   "execution_count": 308,
   "metadata": {
    "collapsed": false
   },
   "outputs": [],
   "source": [
    "# -*- coding: utf-8 -*-\n",
    "import numpy\n",
    "import pandas as pd\n",
    "df = pd.read_csv(\"file.dat\", header=None, delim_whitespace=True)\n",
    "col3=[]\n",
    "for index, row in df.iterrows():\n",
    "    if(index)!=-1:\n",
    "        col3.append(row[2])\n",
    "col3.sort()\n",
    "outputData = pd.DataFrame(col3)\n",
    "outputData.to_csv(\"ans1.txt\",header=False,index=False ,sep=',', line_terminator=\",\")\n",
    "     \n"
   ]
  },
  {
   "cell_type": "code",
   "execution_count": 30,
   "metadata": {
    "collapsed": false
   },
   "outputs": [
    {
     "name": "stdout",
     "output_type": "stream",
     "text": [
      "PNG (512, 512) L\n"
     ]
    }
   ],
   "source": [
    "from PIL import Image\n",
    "import matplotlib.pyplot as plt\n",
    "im = Image.open(\"Lena.png\")\n",
    "print im.format, im.size, im.mode\n",
    "px = im.load()\n",
    "h=im.height\n",
    "w=im.width\n",
    "# for i in range(h):\n",
    "#     for j in range(w):\n",
    "#         print(px[i,j])\n",
    "# im.show()\n",
    "\n",
    "im4 = im.transpose( Image.ROTATE_180 )\n",
    "# nim4.save( \"transposed90.jpg\" )\n",
    "\n",
    "im4.show()\n",
    "# plt.gray()\n",
    "# plt.imshow(px)\n",
    "# plt.show()"
   ]
  },
  {
   "cell_type": "code",
   "execution_count": null,
   "metadata": {
    "collapsed": true
   },
   "outputs": [],
   "source": []
  }
 ],
 "metadata": {
  "kernelspec": {
   "display_name": "Python 2",
   "language": "python",
   "name": "python2"
  },
  "language_info": {
   "codemirror_mode": {
    "name": "ipython",
    "version": 2
   },
   "file_extension": ".py",
   "mimetype": "text/x-python",
   "name": "python",
   "nbconvert_exporter": "python",
   "pygments_lexer": "ipython2",
   "version": "2.7.11"
  }
 },
 "nbformat": 4,
 "nbformat_minor": 0
}
